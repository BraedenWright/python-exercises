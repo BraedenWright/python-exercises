{
 "cells": [
  {
   "cell_type": "code",
   "execution_count": 6,
   "id": "256eaee1",
   "metadata": {},
   "outputs": [
    {
     "name": "stdout",
     "output_type": "stream",
     "text": [
      "('Luke', 'Han', 'Leia', 'Obi-Wan', 'Vader', 'Tarkin', 'The Emperor')\n"
     ]
    }
   ],
   "source": [
    "good_guys = ('Luke', 'Han', 'Leia', 'Obi-Wan')\n",
    "\n",
    "bad_guys = ('Vader', 'Tarkin', 'The Emperor')\n",
    "\n",
    "print(good_guys + bad_guys)\n",
    "\n"
   ]
  },
  {
   "cell_type": "code",
   "execution_count": null,
   "id": "b7be8285",
   "metadata": {},
   "outputs": [],
   "source": []
  },
  {
   "cell_type": "code",
   "execution_count": 10,
   "id": "6fa4c11d",
   "metadata": {},
   "outputs": [
    {
     "data": {
      "text/plain": [
       "'- z to undelete said cell'"
      ]
     },
     "execution_count": 10,
     "metadata": {},
     "output_type": "execute_result"
    }
   ],
   "source": [
    "'Some great shortcuts'\n",
    "'- d,d to delete selected cell'\n",
    "'- z to undelete said cell'"
   ]
  },
  {
   "cell_type": "code",
   "execution_count": 12,
   "id": "5e8f761b",
   "metadata": {},
   "outputs": [
    {
     "data": {
      "text/plain": [
       "19.0"
      ]
     },
     "execution_count": 12,
     "metadata": {},
     "output_type": "execute_result"
    }
   ],
   "source": [
    "10 + 72 / 8"
   ]
  },
  {
   "cell_type": "code",
   "execution_count": null,
   "id": "a3ce1eb4",
   "metadata": {},
   "outputs": [],
   "source": []
  }
 ],
 "metadata": {
  "kernelspec": {
   "display_name": "Python 3 (ipykernel)",
   "language": "python",
   "name": "python3"
  },
  "language_info": {
   "codemirror_mode": {
    "name": "ipython",
    "version": 3
   },
   "file_extension": ".py",
   "mimetype": "text/x-python",
   "name": "python",
   "nbconvert_exporter": "python",
   "pygments_lexer": "ipython3",
   "version": "3.9.7"
  }
 },
 "nbformat": 4,
 "nbformat_minor": 5
}
